{
  "nbformat": 4,
  "nbformat_minor": 0,
  "metadata": {
    "colab": {
      "provenance": []
    },
    "kernelspec": {
      "name": "python3",
      "display_name": "Python 3"
    },
    "language_info": {
      "name": "python"
    }
  },
  "cells": [
    {
      "cell_type": "code",
      "execution_count": 1,
      "metadata": {
        "id": "6afSBm_QNu_8"
      },
      "outputs": [],
      "source": [
        " from google.colab import auth\n",
        "import gspread\n",
        "from google.auth import default\n",
        "import pandas as pd\n",
        "\n",
        "from sklearn.model_selection import train_test_split\n",
        "from sklearn.preprocessing import MinMaxScaler\n",
        "from tensorflow.keras.models import Sequential\n",
        "from tensorflow.keras.layers import Dense"
      ]
    },
    {
      "cell_type": "code",
      "source": [
        "auth.authenticate_user()\n",
        "creds, _ = default()\n",
        "gc = gspread.authorize(creds)\n",
        "\n"
      ],
      "metadata": {
        "id": "9CIAKd78RtAx"
      },
      "execution_count": 2,
      "outputs": []
    },
    {
      "cell_type": "code",
      "source": [
        "worksheet = gc.open('deep').sheet1\n",
        "\n",
        "rows = worksheet.get_all_values()\n"
      ],
      "metadata": {
        "id": "I7CCI37PSSH4"
      },
      "execution_count": 6,
      "outputs": []
    },
    {
      "cell_type": "code",
      "source": [
        "df = pd.DataFrame(rows[1:], columns=rows[0])\n",
        "df = df.astype({'input':'float'})\n",
        "df = df.astype({'output':'float'})\n",
        "df.head()"
      ],
      "metadata": {
        "colab": {
          "base_uri": "https://localhost:8080/",
          "height": 206
        },
        "id": "YvfMQ0M1S0aL",
        "outputId": "1dba11a9-0999-47a5-fded-79d354f234da"
      },
      "execution_count": 7,
      "outputs": [
        {
          "output_type": "execute_result",
          "data": {
            "text/plain": [
              "   input  output\n",
              "0    3.0    56.0\n",
              "1    5.0    67.0\n",
              "2    6.0    73.0\n",
              "3    7.0    32.0\n",
              "4    8.0    13.0"
            ],
            "text/html": [
              "\n",
              "  <div id=\"df-3d25588d-f8fd-4fcd-8c3b-84abbb171a16\" class=\"colab-df-container\">\n",
              "    <div>\n",
              "<style scoped>\n",
              "    .dataframe tbody tr th:only-of-type {\n",
              "        vertical-align: middle;\n",
              "    }\n",
              "\n",
              "    .dataframe tbody tr th {\n",
              "        vertical-align: top;\n",
              "    }\n",
              "\n",
              "    .dataframe thead th {\n",
              "        text-align: right;\n",
              "    }\n",
              "</style>\n",
              "<table border=\"1\" class=\"dataframe\">\n",
              "  <thead>\n",
              "    <tr style=\"text-align: right;\">\n",
              "      <th></th>\n",
              "      <th>input</th>\n",
              "      <th>output</th>\n",
              "    </tr>\n",
              "  </thead>\n",
              "  <tbody>\n",
              "    <tr>\n",
              "      <th>0</th>\n",
              "      <td>3.0</td>\n",
              "      <td>56.0</td>\n",
              "    </tr>\n",
              "    <tr>\n",
              "      <th>1</th>\n",
              "      <td>5.0</td>\n",
              "      <td>67.0</td>\n",
              "    </tr>\n",
              "    <tr>\n",
              "      <th>2</th>\n",
              "      <td>6.0</td>\n",
              "      <td>73.0</td>\n",
              "    </tr>\n",
              "    <tr>\n",
              "      <th>3</th>\n",
              "      <td>7.0</td>\n",
              "      <td>32.0</td>\n",
              "    </tr>\n",
              "    <tr>\n",
              "      <th>4</th>\n",
              "      <td>8.0</td>\n",
              "      <td>13.0</td>\n",
              "    </tr>\n",
              "  </tbody>\n",
              "</table>\n",
              "</div>\n",
              "    <div class=\"colab-df-buttons\">\n",
              "\n",
              "  <div class=\"colab-df-container\">\n",
              "    <button class=\"colab-df-convert\" onclick=\"convertToInteractive('df-3d25588d-f8fd-4fcd-8c3b-84abbb171a16')\"\n",
              "            title=\"Convert this dataframe to an interactive table.\"\n",
              "            style=\"display:none;\">\n",
              "\n",
              "  <svg xmlns=\"http://www.w3.org/2000/svg\" height=\"24px\" viewBox=\"0 -960 960 960\">\n",
              "    <path d=\"M120-120v-720h720v720H120Zm60-500h600v-160H180v160Zm220 220h160v-160H400v160Zm0 220h160v-160H400v160ZM180-400h160v-160H180v160Zm440 0h160v-160H620v160ZM180-180h160v-160H180v160Zm440 0h160v-160H620v160Z\"/>\n",
              "  </svg>\n",
              "    </button>\n",
              "\n",
              "  <style>\n",
              "    .colab-df-container {\n",
              "      display:flex;\n",
              "      gap: 12px;\n",
              "    }\n",
              "\n",
              "    .colab-df-convert {\n",
              "      background-color: #E8F0FE;\n",
              "      border: none;\n",
              "      border-radius: 50%;\n",
              "      cursor: pointer;\n",
              "      display: none;\n",
              "      fill: #1967D2;\n",
              "      height: 32px;\n",
              "      padding: 0 0 0 0;\n",
              "      width: 32px;\n",
              "    }\n",
              "\n",
              "    .colab-df-convert:hover {\n",
              "      background-color: #E2EBFA;\n",
              "      box-shadow: 0px 1px 2px rgba(60, 64, 67, 0.3), 0px 1px 3px 1px rgba(60, 64, 67, 0.15);\n",
              "      fill: #174EA6;\n",
              "    }\n",
              "\n",
              "    .colab-df-buttons div {\n",
              "      margin-bottom: 4px;\n",
              "    }\n",
              "\n",
              "    [theme=dark] .colab-df-convert {\n",
              "      background-color: #3B4455;\n",
              "      fill: #D2E3FC;\n",
              "    }\n",
              "\n",
              "    [theme=dark] .colab-df-convert:hover {\n",
              "      background-color: #434B5C;\n",
              "      box-shadow: 0px 1px 3px 1px rgba(0, 0, 0, 0.15);\n",
              "      filter: drop-shadow(0px 1px 2px rgba(0, 0, 0, 0.3));\n",
              "      fill: #FFFFFF;\n",
              "    }\n",
              "  </style>\n",
              "\n",
              "    <script>\n",
              "      const buttonEl =\n",
              "        document.querySelector('#df-3d25588d-f8fd-4fcd-8c3b-84abbb171a16 button.colab-df-convert');\n",
              "      buttonEl.style.display =\n",
              "        google.colab.kernel.accessAllowed ? 'block' : 'none';\n",
              "\n",
              "      async function convertToInteractive(key) {\n",
              "        const element = document.querySelector('#df-3d25588d-f8fd-4fcd-8c3b-84abbb171a16');\n",
              "        const dataTable =\n",
              "          await google.colab.kernel.invokeFunction('convertToInteractive',\n",
              "                                                    [key], {});\n",
              "        if (!dataTable) return;\n",
              "\n",
              "        const docLinkHtml = 'Like what you see? Visit the ' +\n",
              "          '<a target=\"_blank\" href=https://colab.research.google.com/notebooks/data_table.ipynb>data table notebook</a>'\n",
              "          + ' to learn more about interactive tables.';\n",
              "        element.innerHTML = '';\n",
              "        dataTable['output_type'] = 'display_data';\n",
              "        await google.colab.output.renderOutput(dataTable, element);\n",
              "        const docLink = document.createElement('div');\n",
              "        docLink.innerHTML = docLinkHtml;\n",
              "        element.appendChild(docLink);\n",
              "      }\n",
              "    </script>\n",
              "  </div>\n",
              "\n",
              "\n",
              "<div id=\"df-28fefce8-cc7d-4028-9ade-2ba5aa782090\">\n",
              "  <button class=\"colab-df-quickchart\" onclick=\"quickchart('df-28fefce8-cc7d-4028-9ade-2ba5aa782090')\"\n",
              "            title=\"Suggest charts.\"\n",
              "            style=\"display:none;\">\n",
              "\n",
              "<svg xmlns=\"http://www.w3.org/2000/svg\" height=\"24px\"viewBox=\"0 0 24 24\"\n",
              "     width=\"24px\">\n",
              "    <g>\n",
              "        <path d=\"M19 3H5c-1.1 0-2 .9-2 2v14c0 1.1.9 2 2 2h14c1.1 0 2-.9 2-2V5c0-1.1-.9-2-2-2zM9 17H7v-7h2v7zm4 0h-2V7h2v10zm4 0h-2v-4h2v4z\"/>\n",
              "    </g>\n",
              "</svg>\n",
              "  </button>\n",
              "\n",
              "<style>\n",
              "  .colab-df-quickchart {\n",
              "    background-color: #E8F0FE;\n",
              "    border: none;\n",
              "    border-radius: 50%;\n",
              "    cursor: pointer;\n",
              "    display: none;\n",
              "    fill: #1967D2;\n",
              "    height: 32px;\n",
              "    padding: 0 0 0 0;\n",
              "    width: 32px;\n",
              "  }\n",
              "\n",
              "  .colab-df-quickchart:hover {\n",
              "    background-color: #E2EBFA;\n",
              "    box-shadow: 0px 1px 2px rgba(60, 64, 67, 0.3), 0px 1px 3px 1px rgba(60, 64, 67, 0.15);\n",
              "    fill: #174EA6;\n",
              "  }\n",
              "\n",
              "  [theme=dark] .colab-df-quickchart {\n",
              "    background-color: #3B4455;\n",
              "    fill: #D2E3FC;\n",
              "  }\n",
              "\n",
              "  [theme=dark] .colab-df-quickchart:hover {\n",
              "    background-color: #434B5C;\n",
              "    box-shadow: 0px 1px 3px 1px rgba(0, 0, 0, 0.15);\n",
              "    filter: drop-shadow(0px 1px 2px rgba(0, 0, 0, 0.3));\n",
              "    fill: #FFFFFF;\n",
              "  }\n",
              "</style>\n",
              "\n",
              "  <script>\n",
              "    async function quickchart(key) {\n",
              "      const charts = await google.colab.kernel.invokeFunction(\n",
              "          'suggestCharts', [key], {});\n",
              "    }\n",
              "    (() => {\n",
              "      let quickchartButtonEl =\n",
              "        document.querySelector('#df-28fefce8-cc7d-4028-9ade-2ba5aa782090 button');\n",
              "      quickchartButtonEl.style.display =\n",
              "        google.colab.kernel.accessAllowed ? 'block' : 'none';\n",
              "    })();\n",
              "  </script>\n",
              "</div>\n",
              "    </div>\n",
              "  </div>\n"
            ]
          },
          "metadata": {},
          "execution_count": 7
        }
      ]
    },
    {
      "cell_type": "code",
      "source": [
        "x= df[['input']].values\n",
        "y= df[['output']].values"
      ],
      "metadata": {
        "id": "fCcP0JfKTbnu"
      },
      "execution_count": 8,
      "outputs": []
    },
    {
      "cell_type": "code",
      "source": [
        "x\n"
      ],
      "metadata": {
        "colab": {
          "base_uri": "https://localhost:8080/"
        },
        "id": "Z_HEbeYsTuum",
        "outputId": "e7b230d3-f17e-4bca-9fd6-2a9ec8717e57"
      },
      "execution_count": 9,
      "outputs": [
        {
          "output_type": "execute_result",
          "data": {
            "text/plain": [
              "array([[ 3.],\n",
              "       [ 5.],\n",
              "       [ 6.],\n",
              "       [ 7.],\n",
              "       [ 8.],\n",
              "       [ 6.],\n",
              "       [ 4.],\n",
              "       [ 2.],\n",
              "       [ 9.],\n",
              "       [ 7.],\n",
              "       [ 5.],\n",
              "       [ 8.],\n",
              "       [12.],\n",
              "       [13.],\n",
              "       [23.],\n",
              "       [ 4.],\n",
              "       [34.],\n",
              "       [25.],\n",
              "       [15.],\n",
              "       [19.]])"
            ]
          },
          "metadata": {},
          "execution_count": 9
        }
      ]
    },
    {
      "cell_type": "code",
      "source": [
        "x_train,x_test,y_train,y_test=train_test_split(x,y,test_size=0.33,random_state=33)"
      ],
      "metadata": {
        "id": "KtX3GzBKT2ZN"
      },
      "execution_count": 10,
      "outputs": []
    },
    {
      "cell_type": "code",
      "source": [
        "Scaler = MinMaxScaler()"
      ],
      "metadata": {
        "id": "WiIRmCzJU4-h"
      },
      "execution_count": 11,
      "outputs": []
    },
    {
      "cell_type": "code",
      "source": [
        "Scaler.fit(x_train)"
      ],
      "metadata": {
        "colab": {
          "base_uri": "https://localhost:8080/",
          "height": 74
        },
        "id": "hWYH7vxhVPfo",
        "outputId": "d5fd67b1-8a7d-47c1-e0b0-dd63b5089e1b"
      },
      "execution_count": 12,
      "outputs": [
        {
          "output_type": "execute_result",
          "data": {
            "text/plain": [
              "MinMaxScaler()"
            ],
            "text/html": [
              "<style>#sk-container-id-1 {color: black;background-color: white;}#sk-container-id-1 pre{padding: 0;}#sk-container-id-1 div.sk-toggleable {background-color: white;}#sk-container-id-1 label.sk-toggleable__label {cursor: pointer;display: block;width: 100%;margin-bottom: 0;padding: 0.3em;box-sizing: border-box;text-align: center;}#sk-container-id-1 label.sk-toggleable__label-arrow:before {content: \"▸\";float: left;margin-right: 0.25em;color: #696969;}#sk-container-id-1 label.sk-toggleable__label-arrow:hover:before {color: black;}#sk-container-id-1 div.sk-estimator:hover label.sk-toggleable__label-arrow:before {color: black;}#sk-container-id-1 div.sk-toggleable__content {max-height: 0;max-width: 0;overflow: hidden;text-align: left;background-color: #f0f8ff;}#sk-container-id-1 div.sk-toggleable__content pre {margin: 0.2em;color: black;border-radius: 0.25em;background-color: #f0f8ff;}#sk-container-id-1 input.sk-toggleable__control:checked~div.sk-toggleable__content {max-height: 200px;max-width: 100%;overflow: auto;}#sk-container-id-1 input.sk-toggleable__control:checked~label.sk-toggleable__label-arrow:before {content: \"▾\";}#sk-container-id-1 div.sk-estimator input.sk-toggleable__control:checked~label.sk-toggleable__label {background-color: #d4ebff;}#sk-container-id-1 div.sk-label input.sk-toggleable__control:checked~label.sk-toggleable__label {background-color: #d4ebff;}#sk-container-id-1 input.sk-hidden--visually {border: 0;clip: rect(1px 1px 1px 1px);clip: rect(1px, 1px, 1px, 1px);height: 1px;margin: -1px;overflow: hidden;padding: 0;position: absolute;width: 1px;}#sk-container-id-1 div.sk-estimator {font-family: monospace;background-color: #f0f8ff;border: 1px dotted black;border-radius: 0.25em;box-sizing: border-box;margin-bottom: 0.5em;}#sk-container-id-1 div.sk-estimator:hover {background-color: #d4ebff;}#sk-container-id-1 div.sk-parallel-item::after {content: \"\";width: 100%;border-bottom: 1px solid gray;flex-grow: 1;}#sk-container-id-1 div.sk-label:hover label.sk-toggleable__label {background-color: #d4ebff;}#sk-container-id-1 div.sk-serial::before {content: \"\";position: absolute;border-left: 1px solid gray;box-sizing: border-box;top: 0;bottom: 0;left: 50%;z-index: 0;}#sk-container-id-1 div.sk-serial {display: flex;flex-direction: column;align-items: center;background-color: white;padding-right: 0.2em;padding-left: 0.2em;position: relative;}#sk-container-id-1 div.sk-item {position: relative;z-index: 1;}#sk-container-id-1 div.sk-parallel {display: flex;align-items: stretch;justify-content: center;background-color: white;position: relative;}#sk-container-id-1 div.sk-item::before, #sk-container-id-1 div.sk-parallel-item::before {content: \"\";position: absolute;border-left: 1px solid gray;box-sizing: border-box;top: 0;bottom: 0;left: 50%;z-index: -1;}#sk-container-id-1 div.sk-parallel-item {display: flex;flex-direction: column;z-index: 1;position: relative;background-color: white;}#sk-container-id-1 div.sk-parallel-item:first-child::after {align-self: flex-end;width: 50%;}#sk-container-id-1 div.sk-parallel-item:last-child::after {align-self: flex-start;width: 50%;}#sk-container-id-1 div.sk-parallel-item:only-child::after {width: 0;}#sk-container-id-1 div.sk-dashed-wrapped {border: 1px dashed gray;margin: 0 0.4em 0.5em 0.4em;box-sizing: border-box;padding-bottom: 0.4em;background-color: white;}#sk-container-id-1 div.sk-label label {font-family: monospace;font-weight: bold;display: inline-block;line-height: 1.2em;}#sk-container-id-1 div.sk-label-container {text-align: center;}#sk-container-id-1 div.sk-container {/* jupyter's `normalize.less` sets `[hidden] { display: none; }` but bootstrap.min.css set `[hidden] { display: none !important; }` so we also need the `!important` here to be able to override the default hidden behavior on the sphinx rendered scikit-learn.org. See: https://github.com/scikit-learn/scikit-learn/issues/21755 */display: inline-block !important;position: relative;}#sk-container-id-1 div.sk-text-repr-fallback {display: none;}</style><div id=\"sk-container-id-1\" class=\"sk-top-container\"><div class=\"sk-text-repr-fallback\"><pre>MinMaxScaler()</pre><b>In a Jupyter environment, please rerun this cell to show the HTML representation or trust the notebook. <br />On GitHub, the HTML representation is unable to render, please try loading this page with nbviewer.org.</b></div><div class=\"sk-container\" hidden><div class=\"sk-item\"><div class=\"sk-estimator sk-toggleable\"><input class=\"sk-toggleable__control sk-hidden--visually\" id=\"sk-estimator-id-1\" type=\"checkbox\" checked><label for=\"sk-estimator-id-1\" class=\"sk-toggleable__label sk-toggleable__label-arrow\">MinMaxScaler</label><div class=\"sk-toggleable__content\"><pre>MinMaxScaler()</pre></div></div></div></div></div>"
            ]
          },
          "metadata": {},
          "execution_count": 12
        }
      ]
    },
    {
      "cell_type": "code",
      "source": [
        "x_train1=Scaler.transform(x_train)"
      ],
      "metadata": {
        "id": "G0HTANmjWRd3"
      },
      "execution_count": 13,
      "outputs": []
    },
    {
      "cell_type": "code",
      "source": [
        "ai_brain=Sequential([\n",
        "    Dense(8,activation='relu'),\n",
        "    Dense(10,activation='relu'),\n",
        "    Dense(1)\n",
        "]\n",
        ")"
      ],
      "metadata": {
        "id": "3s8M8qXuWahJ"
      },
      "execution_count": 14,
      "outputs": []
    },
    {
      "cell_type": "code",
      "source": [
        "ai_brain.compile(optimizer='rmsprop',loss='mse')"
      ],
      "metadata": {
        "id": "v7mTnjcPpq8z"
      },
      "execution_count": 15,
      "outputs": []
    },
    {
      "cell_type": "code",
      "source": [
        "ai_brain.fit(x_train1,y_train,epochs=200)"
      ],
      "metadata": {
        "colab": {
          "base_uri": "https://localhost:8080/"
        },
        "id": "uSt3G_H-prMa",
        "outputId": "97dd6c57-f389-469a-f4ad-2cf466f9917b"
      },
      "execution_count": 16,
      "outputs": [
        {
          "output_type": "stream",
          "name": "stdout",
          "text": [
            "Epoch 1/200\n",
            "1/1 [==============================] - 1s 843ms/step - loss: 4228.6040\n",
            "Epoch 2/200\n",
            "1/1 [==============================] - 0s 13ms/step - loss: 4225.2700\n",
            "Epoch 3/200\n",
            "1/1 [==============================] - 0s 11ms/step - loss: 4222.7676\n",
            "Epoch 4/200\n",
            "1/1 [==============================] - 0s 6ms/step - loss: 4220.5439\n",
            "Epoch 5/200\n",
            "1/1 [==============================] - 0s 9ms/step - loss: 4218.3931\n",
            "Epoch 6/200\n",
            "1/1 [==============================] - 0s 13ms/step - loss: 4216.4268\n",
            "Epoch 7/200\n",
            "1/1 [==============================] - 0s 10ms/step - loss: 4214.6538\n",
            "Epoch 8/200\n",
            "1/1 [==============================] - 0s 9ms/step - loss: 4212.9033\n",
            "Epoch 9/200\n",
            "1/1 [==============================] - 0s 10ms/step - loss: 4211.2690\n",
            "Epoch 10/200\n",
            "1/1 [==============================] - 0s 12ms/step - loss: 4209.7817\n",
            "Epoch 11/200\n",
            "1/1 [==============================] - 0s 16ms/step - loss: 4208.3174\n",
            "Epoch 12/200\n",
            "1/1 [==============================] - 0s 10ms/step - loss: 4206.8706\n",
            "Epoch 13/200\n",
            "1/1 [==============================] - 0s 13ms/step - loss: 4205.4531\n",
            "Epoch 14/200\n",
            "1/1 [==============================] - 0s 19ms/step - loss: 4204.0776\n",
            "Epoch 15/200\n",
            "1/1 [==============================] - 0s 13ms/step - loss: 4202.6279\n",
            "Epoch 16/200\n",
            "1/1 [==============================] - 0s 14ms/step - loss: 4201.2217\n",
            "Epoch 17/200\n",
            "1/1 [==============================] - 0s 11ms/step - loss: 4199.8892\n",
            "Epoch 18/200\n",
            "1/1 [==============================] - 0s 13ms/step - loss: 4198.6240\n",
            "Epoch 19/200\n",
            "1/1 [==============================] - 0s 15ms/step - loss: 4197.3672\n",
            "Epoch 20/200\n",
            "1/1 [==============================] - 0s 12ms/step - loss: 4196.1118\n",
            "Epoch 21/200\n",
            "1/1 [==============================] - 0s 10ms/step - loss: 4194.8540\n",
            "Epoch 22/200\n",
            "1/1 [==============================] - 0s 10ms/step - loss: 4193.6084\n",
            "Epoch 23/200\n",
            "1/1 [==============================] - 0s 8ms/step - loss: 4192.3740\n",
            "Epoch 24/200\n",
            "1/1 [==============================] - 0s 10ms/step - loss: 4191.1436\n",
            "Epoch 25/200\n",
            "1/1 [==============================] - 0s 11ms/step - loss: 4189.9136\n",
            "Epoch 26/200\n",
            "1/1 [==============================] - 0s 13ms/step - loss: 4188.6836\n",
            "Epoch 27/200\n",
            "1/1 [==============================] - 0s 12ms/step - loss: 4187.4521\n",
            "Epoch 28/200\n",
            "1/1 [==============================] - 0s 12ms/step - loss: 4186.2183\n",
            "Epoch 29/200\n",
            "1/1 [==============================] - 0s 13ms/step - loss: 4184.9917\n",
            "Epoch 30/200\n",
            "1/1 [==============================] - 0s 17ms/step - loss: 4183.7710\n",
            "Epoch 31/200\n",
            "1/1 [==============================] - 0s 18ms/step - loss: 4182.5439\n",
            "Epoch 32/200\n",
            "1/1 [==============================] - 0s 15ms/step - loss: 4181.3115\n",
            "Epoch 33/200\n",
            "1/1 [==============================] - 0s 13ms/step - loss: 4180.0757\n",
            "Epoch 34/200\n",
            "1/1 [==============================] - 0s 15ms/step - loss: 4178.8516\n",
            "Epoch 35/200\n",
            "1/1 [==============================] - 0s 10ms/step - loss: 4177.6494\n",
            "Epoch 36/200\n",
            "1/1 [==============================] - 0s 11ms/step - loss: 4176.4663\n",
            "Epoch 37/200\n",
            "1/1 [==============================] - 0s 11ms/step - loss: 4175.2949\n",
            "Epoch 38/200\n",
            "1/1 [==============================] - 0s 11ms/step - loss: 4174.1240\n",
            "Epoch 39/200\n",
            "1/1 [==============================] - 0s 11ms/step - loss: 4172.9512\n",
            "Epoch 40/200\n",
            "1/1 [==============================] - 0s 11ms/step - loss: 4171.7773\n",
            "Epoch 41/200\n",
            "1/1 [==============================] - 0s 10ms/step - loss: 4170.5952\n",
            "Epoch 42/200\n",
            "1/1 [==============================] - 0s 11ms/step - loss: 4169.4048\n",
            "Epoch 43/200\n",
            "1/1 [==============================] - 0s 12ms/step - loss: 4168.2061\n",
            "Epoch 44/200\n",
            "1/1 [==============================] - 0s 11ms/step - loss: 4166.9946\n",
            "Epoch 45/200\n",
            "1/1 [==============================] - 0s 10ms/step - loss: 4165.7529\n",
            "Epoch 46/200\n",
            "1/1 [==============================] - 0s 10ms/step - loss: 4164.5044\n",
            "Epoch 47/200\n",
            "1/1 [==============================] - 0s 13ms/step - loss: 4163.2490\n",
            "Epoch 48/200\n",
            "1/1 [==============================] - 0s 15ms/step - loss: 4161.9863\n",
            "Epoch 49/200\n",
            "1/1 [==============================] - 0s 13ms/step - loss: 4160.7158\n",
            "Epoch 50/200\n",
            "1/1 [==============================] - 0s 16ms/step - loss: 4159.4375\n",
            "Epoch 51/200\n",
            "1/1 [==============================] - 0s 12ms/step - loss: 4158.1548\n",
            "Epoch 52/200\n",
            "1/1 [==============================] - 0s 14ms/step - loss: 4156.8823\n",
            "Epoch 53/200\n",
            "1/1 [==============================] - 0s 11ms/step - loss: 4155.6016\n",
            "Epoch 54/200\n",
            "1/1 [==============================] - 0s 12ms/step - loss: 4154.3120\n",
            "Epoch 55/200\n",
            "1/1 [==============================] - 0s 12ms/step - loss: 4153.0151\n",
            "Epoch 56/200\n",
            "1/1 [==============================] - 0s 10ms/step - loss: 4151.7119\n",
            "Epoch 57/200\n",
            "1/1 [==============================] - 0s 10ms/step - loss: 4150.4111\n",
            "Epoch 58/200\n",
            "1/1 [==============================] - 0s 18ms/step - loss: 4149.1123\n",
            "Epoch 59/200\n",
            "1/1 [==============================] - 0s 11ms/step - loss: 4147.8335\n",
            "Epoch 60/200\n",
            "1/1 [==============================] - 0s 10ms/step - loss: 4146.5518\n",
            "Epoch 61/200\n",
            "1/1 [==============================] - 0s 12ms/step - loss: 4145.2612\n",
            "Epoch 62/200\n",
            "1/1 [==============================] - 0s 11ms/step - loss: 4143.9634\n",
            "Epoch 63/200\n",
            "1/1 [==============================] - 0s 15ms/step - loss: 4142.6567\n",
            "Epoch 64/200\n",
            "1/1 [==============================] - 0s 24ms/step - loss: 4141.3408\n",
            "Epoch 65/200\n",
            "1/1 [==============================] - 0s 15ms/step - loss: 4140.0283\n",
            "Epoch 66/200\n",
            "1/1 [==============================] - 0s 13ms/step - loss: 4138.7271\n",
            "Epoch 67/200\n",
            "1/1 [==============================] - 0s 14ms/step - loss: 4137.4175\n",
            "Epoch 68/200\n",
            "1/1 [==============================] - 0s 9ms/step - loss: 4136.0986\n",
            "Epoch 69/200\n",
            "1/1 [==============================] - 0s 9ms/step - loss: 4134.7710\n",
            "Epoch 70/200\n",
            "1/1 [==============================] - 0s 10ms/step - loss: 4133.4341\n",
            "Epoch 71/200\n",
            "1/1 [==============================] - 0s 12ms/step - loss: 4132.0869\n",
            "Epoch 72/200\n",
            "1/1 [==============================] - 0s 11ms/step - loss: 4130.7310\n",
            "Epoch 73/200\n",
            "1/1 [==============================] - 0s 12ms/step - loss: 4129.3921\n",
            "Epoch 74/200\n",
            "1/1 [==============================] - 0s 10ms/step - loss: 4128.0542\n",
            "Epoch 75/200\n",
            "1/1 [==============================] - 0s 9ms/step - loss: 4126.7080\n",
            "Epoch 76/200\n",
            "1/1 [==============================] - 0s 11ms/step - loss: 4125.3535\n",
            "Epoch 77/200\n",
            "1/1 [==============================] - 0s 11ms/step - loss: 4123.9907\n",
            "Epoch 78/200\n",
            "1/1 [==============================] - 0s 10ms/step - loss: 4122.6191\n",
            "Epoch 79/200\n",
            "1/1 [==============================] - 0s 15ms/step - loss: 4121.2388\n",
            "Epoch 80/200\n",
            "1/1 [==============================] - 0s 11ms/step - loss: 4119.8496\n",
            "Epoch 81/200\n",
            "1/1 [==============================] - 0s 9ms/step - loss: 4118.4521\n",
            "Epoch 82/200\n",
            "1/1 [==============================] - 0s 12ms/step - loss: 4117.0498\n",
            "Epoch 83/200\n",
            "1/1 [==============================] - 0s 11ms/step - loss: 4115.6382\n",
            "Epoch 84/200\n",
            "1/1 [==============================] - 0s 14ms/step - loss: 4114.2188\n",
            "Epoch 85/200\n",
            "1/1 [==============================] - 0s 10ms/step - loss: 4112.8130\n",
            "Epoch 86/200\n",
            "1/1 [==============================] - 0s 12ms/step - loss: 4111.4106\n",
            "Epoch 87/200\n",
            "1/1 [==============================] - 0s 12ms/step - loss: 4110.0054\n",
            "Epoch 88/200\n",
            "1/1 [==============================] - 0s 14ms/step - loss: 4108.5923\n",
            "Epoch 89/200\n",
            "1/1 [==============================] - 0s 9ms/step - loss: 4107.1709\n",
            "Epoch 90/200\n",
            "1/1 [==============================] - 0s 9ms/step - loss: 4105.7402\n",
            "Epoch 91/200\n",
            "1/1 [==============================] - 0s 11ms/step - loss: 4104.3018\n",
            "Epoch 92/200\n",
            "1/1 [==============================] - 0s 7ms/step - loss: 4102.8545\n",
            "Epoch 93/200\n",
            "1/1 [==============================] - 0s 10ms/step - loss: 4101.3984\n",
            "Epoch 94/200\n",
            "1/1 [==============================] - 0s 10ms/step - loss: 4099.9365\n",
            "Epoch 95/200\n",
            "1/1 [==============================] - 0s 16ms/step - loss: 4098.4780\n",
            "Epoch 96/200\n",
            "1/1 [==============================] - 0s 9ms/step - loss: 4097.0137\n",
            "Epoch 97/200\n",
            "1/1 [==============================] - 0s 9ms/step - loss: 4095.5400\n",
            "Epoch 98/200\n",
            "1/1 [==============================] - 0s 8ms/step - loss: 4094.0576\n",
            "Epoch 99/200\n",
            "1/1 [==============================] - 0s 8ms/step - loss: 4092.5688\n",
            "Epoch 100/200\n",
            "1/1 [==============================] - 0s 9ms/step - loss: 4091.0713\n",
            "Epoch 101/200\n",
            "1/1 [==============================] - 0s 11ms/step - loss: 4089.5642\n",
            "Epoch 102/200\n",
            "1/1 [==============================] - 0s 7ms/step - loss: 4088.0498\n",
            "Epoch 103/200\n",
            "1/1 [==============================] - 0s 9ms/step - loss: 4086.5283\n",
            "Epoch 104/200\n",
            "1/1 [==============================] - 0s 7ms/step - loss: 4084.9976\n",
            "Epoch 105/200\n",
            "1/1 [==============================] - 0s 13ms/step - loss: 4083.4585\n",
            "Epoch 106/200\n",
            "1/1 [==============================] - 0s 11ms/step - loss: 4081.9104\n",
            "Epoch 107/200\n",
            "1/1 [==============================] - 0s 11ms/step - loss: 4080.3542\n",
            "Epoch 108/200\n",
            "1/1 [==============================] - 0s 7ms/step - loss: 4078.7920\n",
            "Epoch 109/200\n",
            "1/1 [==============================] - 0s 9ms/step - loss: 4077.2190\n",
            "Epoch 110/200\n",
            "1/1 [==============================] - 0s 7ms/step - loss: 4075.6382\n",
            "Epoch 111/200\n",
            "1/1 [==============================] - 0s 8ms/step - loss: 4074.0486\n",
            "Epoch 112/200\n",
            "1/1 [==============================] - 0s 9ms/step - loss: 4072.4514\n",
            "Epoch 113/200\n",
            "1/1 [==============================] - 0s 8ms/step - loss: 4070.8486\n",
            "Epoch 114/200\n",
            "1/1 [==============================] - 0s 13ms/step - loss: 4069.2517\n",
            "Epoch 115/200\n",
            "1/1 [==============================] - 0s 7ms/step - loss: 4067.6384\n",
            "Epoch 116/200\n",
            "1/1 [==============================] - 0s 7ms/step - loss: 4066.0190\n",
            "Epoch 117/200\n",
            "1/1 [==============================] - 0s 9ms/step - loss: 4064.3984\n",
            "Epoch 118/200\n",
            "1/1 [==============================] - 0s 19ms/step - loss: 4062.7615\n",
            "Epoch 119/200\n",
            "1/1 [==============================] - 0s 13ms/step - loss: 4061.1226\n",
            "Epoch 120/200\n",
            "1/1 [==============================] - 0s 11ms/step - loss: 4059.4790\n",
            "Epoch 121/200\n",
            "1/1 [==============================] - 0s 10ms/step - loss: 4057.8191\n",
            "Epoch 122/200\n",
            "1/1 [==============================] - 0s 8ms/step - loss: 4056.1536\n",
            "Epoch 123/200\n",
            "1/1 [==============================] - 0s 9ms/step - loss: 4054.4888\n",
            "Epoch 124/200\n",
            "1/1 [==============================] - 0s 11ms/step - loss: 4052.8064\n",
            "Epoch 125/200\n",
            "1/1 [==============================] - 0s 11ms/step - loss: 4051.1189\n",
            "Epoch 126/200\n",
            "1/1 [==============================] - 0s 9ms/step - loss: 4049.4307\n",
            "Epoch 127/200\n",
            "1/1 [==============================] - 0s 10ms/step - loss: 4047.7405\n",
            "Epoch 128/200\n",
            "1/1 [==============================] - 0s 11ms/step - loss: 4046.0334\n",
            "Epoch 129/200\n",
            "1/1 [==============================] - 0s 10ms/step - loss: 4044.3179\n",
            "Epoch 130/200\n",
            "1/1 [==============================] - 0s 10ms/step - loss: 4042.5940\n",
            "Epoch 131/200\n",
            "1/1 [==============================] - 0s 9ms/step - loss: 4040.8630\n",
            "Epoch 132/200\n",
            "1/1 [==============================] - 0s 9ms/step - loss: 4039.1304\n",
            "Epoch 133/200\n",
            "1/1 [==============================] - 0s 10ms/step - loss: 4037.3804\n",
            "Epoch 134/200\n",
            "1/1 [==============================] - 0s 10ms/step - loss: 4035.6228\n",
            "Epoch 135/200\n",
            "1/1 [==============================] - 0s 9ms/step - loss: 4033.8569\n",
            "Epoch 136/200\n",
            "1/1 [==============================] - 0s 8ms/step - loss: 4032.0845\n",
            "Epoch 137/200\n",
            "1/1 [==============================] - 0s 9ms/step - loss: 4030.3059\n",
            "Epoch 138/200\n",
            "1/1 [==============================] - 0s 10ms/step - loss: 4028.5234\n",
            "Epoch 139/200\n",
            "1/1 [==============================] - 0s 11ms/step - loss: 4026.7253\n",
            "Epoch 140/200\n",
            "1/1 [==============================] - 0s 11ms/step - loss: 4024.9182\n",
            "Epoch 141/200\n",
            "1/1 [==============================] - 0s 12ms/step - loss: 4023.1033\n",
            "Epoch 142/200\n",
            "1/1 [==============================] - 0s 10ms/step - loss: 4021.2795\n",
            "Epoch 143/200\n",
            "1/1 [==============================] - 0s 11ms/step - loss: 4019.4470\n",
            "Epoch 144/200\n",
            "1/1 [==============================] - 0s 10ms/step - loss: 4017.6064\n",
            "Epoch 145/200\n",
            "1/1 [==============================] - 0s 10ms/step - loss: 4015.7639\n",
            "Epoch 146/200\n",
            "1/1 [==============================] - 0s 12ms/step - loss: 4013.9062\n",
            "Epoch 147/200\n",
            "1/1 [==============================] - 0s 8ms/step - loss: 4012.0388\n",
            "Epoch 148/200\n",
            "1/1 [==============================] - 0s 11ms/step - loss: 4010.1631\n",
            "Epoch 149/200\n",
            "1/1 [==============================] - 0s 13ms/step - loss: 4008.2800\n",
            "Epoch 150/200\n",
            "1/1 [==============================] - 0s 14ms/step - loss: 4006.3867\n",
            "Epoch 151/200\n",
            "1/1 [==============================] - 0s 9ms/step - loss: 4004.4846\n",
            "Epoch 152/200\n",
            "1/1 [==============================] - 0s 10ms/step - loss: 4002.5740\n",
            "Epoch 153/200\n",
            "1/1 [==============================] - 0s 10ms/step - loss: 4000.6565\n",
            "Epoch 154/200\n",
            "1/1 [==============================] - 0s 10ms/step - loss: 3998.7344\n",
            "Epoch 155/200\n",
            "1/1 [==============================] - 0s 8ms/step - loss: 3996.7974\n",
            "Epoch 156/200\n",
            "1/1 [==============================] - 0s 9ms/step - loss: 3994.8513\n",
            "Epoch 157/200\n",
            "1/1 [==============================] - 0s 11ms/step - loss: 3992.8970\n",
            "Epoch 158/200\n",
            "1/1 [==============================] - 0s 10ms/step - loss: 3990.9336\n",
            "Epoch 159/200\n",
            "1/1 [==============================] - 0s 11ms/step - loss: 3988.9614\n",
            "Epoch 160/200\n",
            "1/1 [==============================] - 0s 9ms/step - loss: 3986.9807\n",
            "Epoch 161/200\n",
            "1/1 [==============================] - 0s 9ms/step - loss: 3984.9917\n",
            "Epoch 162/200\n",
            "1/1 [==============================] - 0s 8ms/step - loss: 3982.9939\n",
            "Epoch 163/200\n",
            "1/1 [==============================] - 0s 19ms/step - loss: 3980.9907\n",
            "Epoch 164/200\n",
            "1/1 [==============================] - 0s 12ms/step - loss: 3978.9788\n",
            "Epoch 165/200\n",
            "1/1 [==============================] - 0s 13ms/step - loss: 3976.9531\n",
            "Epoch 166/200\n",
            "1/1 [==============================] - 0s 9ms/step - loss: 3974.9189\n",
            "Epoch 167/200\n",
            "1/1 [==============================] - 0s 11ms/step - loss: 3972.8760\n",
            "Epoch 168/200\n",
            "1/1 [==============================] - 0s 11ms/step - loss: 3970.8240\n",
            "Epoch 169/200\n",
            "1/1 [==============================] - 0s 9ms/step - loss: 3968.7632\n",
            "Epoch 170/200\n",
            "1/1 [==============================] - 0s 13ms/step - loss: 3966.6938\n",
            "Epoch 171/200\n",
            "1/1 [==============================] - 0s 12ms/step - loss: 3964.6155\n",
            "Epoch 172/200\n",
            "1/1 [==============================] - 0s 10ms/step - loss: 3962.5276\n",
            "Epoch 173/200\n",
            "1/1 [==============================] - 0s 9ms/step - loss: 3960.4314\n",
            "Epoch 174/200\n",
            "1/1 [==============================] - 0s 9ms/step - loss: 3958.3269\n",
            "Epoch 175/200\n",
            "1/1 [==============================] - 0s 8ms/step - loss: 3956.2192\n",
            "Epoch 176/200\n",
            "1/1 [==============================] - 0s 9ms/step - loss: 3954.0952\n",
            "Epoch 177/200\n",
            "1/1 [==============================] - 0s 9ms/step - loss: 3951.9626\n",
            "Epoch 178/200\n",
            "1/1 [==============================] - 0s 10ms/step - loss: 3949.8208\n",
            "Epoch 179/200\n",
            "1/1 [==============================] - 0s 8ms/step - loss: 3947.6707\n",
            "Epoch 180/200\n",
            "1/1 [==============================] - 0s 9ms/step - loss: 3945.5120\n",
            "Epoch 181/200\n",
            "1/1 [==============================] - 0s 8ms/step - loss: 3943.3433\n",
            "Epoch 182/200\n",
            "1/1 [==============================] - 0s 7ms/step - loss: 3941.1655\n",
            "Epoch 183/200\n",
            "1/1 [==============================] - 0s 8ms/step - loss: 3938.9780\n",
            "Epoch 184/200\n",
            "1/1 [==============================] - 0s 12ms/step - loss: 3936.7825\n",
            "Epoch 185/200\n",
            "1/1 [==============================] - 0s 16ms/step - loss: 3934.5771\n",
            "Epoch 186/200\n",
            "1/1 [==============================] - 0s 12ms/step - loss: 3932.3630\n",
            "Epoch 187/200\n",
            "1/1 [==============================] - 0s 9ms/step - loss: 3930.1394\n",
            "Epoch 188/200\n",
            "1/1 [==============================] - 0s 9ms/step - loss: 3927.9072\n",
            "Epoch 189/200\n",
            "1/1 [==============================] - 0s 10ms/step - loss: 3925.6707\n",
            "Epoch 190/200\n",
            "1/1 [==============================] - 0s 9ms/step - loss: 3923.4197\n",
            "Epoch 191/200\n",
            "1/1 [==============================] - 0s 13ms/step - loss: 3921.1592\n",
            "Epoch 192/200\n",
            "1/1 [==============================] - 0s 10ms/step - loss: 3918.8892\n",
            "Epoch 193/200\n",
            "1/1 [==============================] - 0s 13ms/step - loss: 3916.6099\n",
            "Epoch 194/200\n",
            "1/1 [==============================] - 0s 10ms/step - loss: 3914.3215\n",
            "Epoch 195/200\n",
            "1/1 [==============================] - 0s 10ms/step - loss: 3912.0237\n",
            "Epoch 196/200\n",
            "1/1 [==============================] - 0s 10ms/step - loss: 3909.7170\n",
            "Epoch 197/200\n",
            "1/1 [==============================] - 0s 10ms/step - loss: 3907.4006\n",
            "Epoch 198/200\n",
            "1/1 [==============================] - 0s 9ms/step - loss: 3905.0752\n",
            "Epoch 199/200\n",
            "1/1 [==============================] - 0s 10ms/step - loss: 3902.7397\n",
            "Epoch 200/200\n",
            "1/1 [==============================] - 0s 9ms/step - loss: 3900.3948\n"
          ]
        },
        {
          "output_type": "execute_result",
          "data": {
            "text/plain": [
              "<keras.callbacks.History at 0x7a2c274b7c10>"
            ]
          },
          "metadata": {},
          "execution_count": 16
        }
      ]
    },
    {
      "cell_type": "code",
      "source": [
        "loss_df=pd.DataFrame(ai_brain.history.history)"
      ],
      "metadata": {
        "id": "ITkQAPqXrX4-"
      },
      "execution_count": 17,
      "outputs": []
    },
    {
      "cell_type": "code",
      "source": [
        "loss_df.plot()"
      ],
      "metadata": {
        "colab": {
          "base_uri": "https://localhost:8080/",
          "height": 447
        },
        "id": "rjMEzPLkrhD3",
        "outputId": "fe7a1ed8-b161-497e-ff22-b785d24368d7"
      },
      "execution_count": 18,
      "outputs": [
        {
          "output_type": "execute_result",
          "data": {
            "text/plain": [
              "<Axes: >"
            ]
          },
          "metadata": {},
          "execution_count": 18
        },
        {
          "output_type": "display_data",
          "data": {
            "text/plain": [
              "<Figure size 640x480 with 1 Axes>"
            ],
            "image/png": "[encoded data removed]"
          },
          "metadata": {}
        }
      ]
    },
    {
      "cell_type": "code",
      "source": [
        "\n",
        "ai_brain.evaluate(x_test1,y_test)"
      ],
      "metadata": {
        "colab": {
          "base_uri": "https://localhost:8080/"
        },
        "id": "ssFVgC23r0hC",
        "outputId": "5ee78c83-dd20-451c-e449-7132e3c4be3e"
      },
      "execution_count": 22,
      "outputs": [
        {
          "output_type": "stream",
          "name": "stdout",
          "text": [
            "1/1 [==============================] - 0s 145ms/step - loss: 4558.8960\n"
          ]
        },
        {
          "output_type": "execute_result",
          "data": {
            "text/plain": [
              "4558.89599609375"
            ]
          },
          "metadata": {},
          "execution_count": 22
        }
      ]
    },
    {
      "cell_type": "code",
      "source": [
        "x_test1 = Scaler.transform(x_test)\n",
        "x_n1 = [[30]]\n",
        "x_n1_1 = Scaler.transform(x_n1)\n",
        "ai_brain.predict(x_n1_1)"
      ],
      "metadata": {
        "colab": {
          "base_uri": "https://localhost:8080/"
        },
        "id": "ZH27nR0eKqqv",
        "outputId": "389960b7-e886-4bc8-8971-63156b958c22"
      },
      "execution_count": 21,
      "outputs": [
        {
          "output_type": "stream",
          "name": "stdout",
          "text": [
            "1/1 [==============================] - 0s 93ms/step\n"
          ]
        },
        {
          "output_type": "execute_result",
          "data": {
            "text/plain": [
              "array([[4.002346]], dtype=float32)"
            ]
          },
          "metadata": {},
          "execution_count": 21
        }
      ]
    },
    {
      "cell_type": "code",
      "source": [],
      "metadata": {
        "id": "dfINXhKMLMbP"
      },
      "execution_count": 21,
      "outputs": []
    }
  ]
}